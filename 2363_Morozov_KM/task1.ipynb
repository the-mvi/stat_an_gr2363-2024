{
  "metadata": {
    "kernelspec": {
      "name": "python",
      "display_name": "Python (Pyodide)",
      "language": "python"
    },
    "language_info": {
      "codemirror_mode": {
        "name": "python",
        "version": 3
      },
      "file_extension": ".py",
      "mimetype": "text/x-python",
      "name": "python",
      "nbconvert_exporter": "python",
      "pygments_lexer": "ipython3",
      "version": "3.8"
    },
    "colab": {
      "provenance": []
    }
  },
  "nbformat_minor": 4,
  "nbformat": 4,
  "cells": [
    {
      "cell_type": "markdown",
      "source": "# Практическая работа №1: Исследование двумерного нормального распределения\n\nВыполнил студент гр. 2363 Морозов Кирилл Михайлович. Вариант №12",
      "metadata": {
        "id": "XNBPULJmznTZ"
      }
    },
    {
      "cell_type": "markdown",
      "source": "## Цель работы\n\nИсследовать свойства двумерного случайного вектора имеющего нормальное распределение, овладеть навыками преобразования нормального вектора в стандартный и в вектор с независимыми компонентами.",
      "metadata": {
        "id": "1MUIEhPNznTa"
      }
    },
    {
      "cell_type": "markdown",
      "source": "## Основные теоретические положения\n\nНахождение матрицы через обратную и ее определитель:\\\n\\\n$\\Sigma^{-1} = \n\\begin{pmatrix}\nx & z\\\\\nw & y\n\\end{pmatrix}$\n\\\n\\\n$\\Sigma = \\frac{1}{det\\Sigma^{-1}}\n\\begin{pmatrix}\ny &-z\\\\\n-w & x\n\\end{pmatrix}$\\\n\\\nНормирование векторов:\n$ |\\vec{X}|=\\sqrt{x_1^2+x_2^2+..+x_n^2}$\\\n\\\nn-мерное нормальное распредление:\\\n$ \\xi \\sim \\mathcal{N}(a, \\sigma^2) $\n\\\n$ p_{\\vec{\\xi}} \\left(\\vec{x}\\right) = \\cfrac{1}{\\left(2\\pi\\right)^{n/2} \\sqrt{\\det\\Sigma}} \\cdot \\exp \\left(-\\cfrac{1}{2}\\left(\\vec{x}-\\mu\\right)^{\\intercal}\\Sigma^{-1}\\left(\\vec{x}-\\mu\\right)\\right) $\\\n$\\vec{x} = \\begin{pmatrix} \\xi \\\\ \\eta \\end{pmatrix},$\\\n$\\vec{\\mu} = \\mathbb{E}\\begin{pmatrix} \\xi \\\\ \\eta \\end{pmatrix},$\\\n$\\Sigma = \\begin{pmatrix} \\mathbb{D}\\xi & \\mathop{\\mathrm{cov}}\\limits(\\xi, \\eta) \\\\ \\mathop{\\mathrm{cov}}\\limits(\\eta, \\xi) & \\mathbb{D}\\eta \\end{pmatrix}.$\\\n$\\quad$\n\\\nАффинное преобразование — отображение плоскости или пространства в себя, при котором параллельные прямые переходят в параллельные прямые, пересекающиеся — в пересекающиеся, скрещивающиеся — в скрещивающиеся.\n\n\\\nПлотность распределения независимых компонентов центрированного вектора имеет вид:\\\n$p_{\\xi,\\eta}(x', y') = \\frac{1}{2\\pi \\cdot \\sqrt{|\\Sigma|}} \\cdot \\exp\\left(-\\frac{1}{2} \\cdot \\left[  \\begin{pmatrix} x' & y' \\end{pmatrix} \\cdot D^{-1} \\cdot \\begin{pmatrix} x' \\\\ y' \\end{pmatrix} \\right]\\right).$\\\n\\\nУсловное распределение $\\xi | \\eta = y$ имеет форму:\n$\\xi | \\eta = y \\sim \\mathcal{N}(\\mathbb{E}[\\xi|\\eta], \\mathbb{D}[\\xi|\\eta])$",
      "metadata": {
        "id": "6CuJ5lrVznTb"
      }
    },
    {
      "cell_type": "markdown",
      "source": "## Постановка задачи\n\nДля заданного двумерного нормального вектора необходимо вычислить числовые характеристики и выполнить заданные преобразования. Полученные результаты содержательно проинтерпретировать.",
      "metadata": {
        "id": "nfRQmPI8znTb"
      }
    },
    {
      "cell_type": "markdown",
      "source": "## Выполнение работы\n\nЗАДАНИЕ №1\n",
      "metadata": {
        "id": "rpG8CHAkznTb"
      }
    },
    {
      "cell_type": "markdown",
      "source": "$P_\\xi,_\\eta(x,y) = C \\cdot exp \\left(-\\frac{1}{2}(6x^2-4xy+9y^2-8x-14y+11\\right)$",
      "metadata": {
        "id": "rpG8CHAkznTb"
      }
    },
    {
      "cell_type": "markdown",
      "source": "$q(x,y)=(6x^2-4xy+9y^2-8x-14y+11)$",
      "metadata": {
        "id": "AzQL0k2cznTc"
      }
    },
    {
      "cell_type": "markdown",
      "source": "$6\\left(x^2-2\\cdot\\left(\\frac{2}{6}\\right)xy+\\frac{1}{9}y^2\\right)+\\frac{75}{9}y^2-8x-14y+11$",
      "metadata": {
        "id": "AzQL0k2cznTc"
      }
    },
    {
      "cell_type": "markdown",
      "source": "$6\\left(x-\\frac{1}{3}\\right)^2+\\frac{75}{9}y^2-8x-14y+11$",
      "metadata": {}
    },
    {
      "cell_type": "markdown",
      "source": "$6\\left(x-\\frac{1}{3}y\\right)^2-8\\left(x-\\frac{1}{3}\\right)+\\frac{75}{9}y^2-14y-\\frac{8}{3}y+11$",
      "metadata": {}
    },
    {
      "cell_type": "markdown",
      "source": "$6\\left(x-\\frac{1}{3}y\\right)^2-8\\left(x-\\frac{1}{3}\\right)+\\frac{75}{9}y^2-\\frac{50}{3}y+11$",
      "metadata": {}
    },
    {
      "cell_type": "markdown",
      "source": "$6((x-\\frac{1}{3}y)^2-\\frac{8}{6}(x-\\frac{1}{3}y))+\\frac{75}{9}y^2-\\frac{50}{3}y+11$",
      "metadata": {}
    },
    {
      "cell_type": "markdown",
      "source": "$6\\left(\\left(x-\\frac{1}{3}y)^2-2\\cdot\\left(\\frac{4}{6}\\right)(x-\\frac{1}{3}y\\right)+\\frac{4}{9}\\right)+\\frac{75}{9}y^2-\\frac{50}{3}y+11-\\frac{24}{9}$",
      "metadata": {},
      "attachments": {}
    },
    {
      "cell_type": "markdown",
      "source": "$6\\left(\\left(x-\\frac{1}{3}y\\right)-\\frac{2}{3}\\right)^2+\\frac{75}{9}y^2-\\frac{50}{3}y+\\frac{75}{9}$",
      "metadata": {}
    },
    {
      "cell_type": "markdown",
      "source": "$6\\left(\\left(x-\\frac{1}{3}y\\right)-\\frac{2}{3}\\right)^2+\\frac{75}{9}\\left(y^2-2\\cdot\\frac{25\\cdot9}{3\\cdot75}y+1\\right)$",
      "metadata": {}
    },
    {
      "cell_type": "markdown",
      "source": "$6\\left(\\left(x-\\frac{1}{3}y\\right)-\\frac{2}{3}\\right)^2+\\frac{75}{9}(y-1)^2$",
      "metadata": {},
      "attachments": {}
    },
    {
      "cell_type": "markdown",
      "source": "$6\\left(\\frac{1}{3}(3x-y)-2\\right)^2+\\frac{75}{9}(y-1)^2$",
      "metadata": {}
    },
    {
      "cell_type": "markdown",
      "source": "$\\frac{2}{3}((3x-y)-2)^2+\\frac{75}{9}(y-1)^2$",
      "metadata": {}
    },
    {
      "cell_type": "markdown",
      "source": "$\\frac{2}{3}(-(y-1)+(3x-3))^2+\\frac{75}{9}(y-1)^2$",
      "metadata": {}
    },
    {
      "cell_type": "markdown",
      "source": "$\\frac{2}{3}((3x-3)^2+2\\cdot(-1)(y-1)(3x-3)+(y-1)^2)+\\frac{75}{9}(y-1)^2$",
      "metadata": {}
    },
    {
      "cell_type": "markdown",
      "source": "$\\frac{2}{3}(3x-3)^2+2\\cdot\\left(-\\frac{2}{3}\\right)(y-1)(3x-3)+\\frac{2}{3}(y-1)^2+\\frac{75}{9}(y-1)^2$",
      "metadata": {}
    },
    {
      "cell_type": "markdown",
      "source": "$6(x-1)^2+2\\cdot(-2)(y-1)(x-1)+9(y-1)^2$",
      "metadata": {}
    },
    {
      "cell_type": "markdown",
      "source": "$\\vec{\\mu} = \n\\begin{pmatrix}\n1\\\\\n1\n\\end{pmatrix}$",
      "metadata": {}
    },
    {
      "cell_type": "markdown",
      "source": "$\\Sigma^{-1} = \n\\begin{pmatrix}\n6 &-2\\\\\n-2 & 9\n\\end{pmatrix}$",
      "metadata": {}
    },
    {
      "cell_type": "markdown",
      "source": "$det\\Sigma^{-1} = 50$\\\n\\\nДалее с помощью преобразований, представленных ниже получаем $\\Sigma$\\\n\\\n$\\Sigma^{-1} = \n\\begin{pmatrix}\nx & z\\\\\nw & y\n\\end{pmatrix}$\n\n$\\Sigma = \\frac{1}{det\\Sigma^{-1}}\n\\begin{pmatrix}\ny &-z\\\\\n-w & x\n\\end{pmatrix}$",
      "metadata": {}
    },
    {
      "cell_type": "markdown",
      "source": "$\\Sigma = \\frac{1}{50}\n\\begin{pmatrix}\n9 & 2  \\\\\n2  & 6\n\\end{pmatrix}$",
      "metadata": {}
    },
    {
      "cell_type": "markdown",
      "source": "$\\mathbb{D}_\\xi = \\frac{6}{50}=\\frac{3}{25} ; \\mathbb{D}_\\eta = \\frac{9}{50} ; \\mathop{\\mathrm{cov}}\\nolimits(\\xi, \\eta) = \\frac{2}{50}=\\frac{1}{25}$",
      "metadata": {}
    },
    {
      "cell_type": "markdown",
      "source": "$\\rho(\\xi, \\eta) = \\frac{\\mathop{\\mathrm{cov}}\\nolimits(\\xi, \\eta) }{\\sqrt{\\mathbb{D}_\\xi \\mathbb{D}_\\eta}}= \\frac{\\sqrt{6}}{9}$",
      "metadata": {}
    },
    {
      "cell_type": "markdown",
      "source": "$C=\\frac{1}{2\\pi\\sqrt{\\frac{1}{50}}}=\\frac{5\\sqrt{2}}{2\\pi}$",
      "metadata": {}
    },
    {
      "cell_type": "markdown",
      "source": "Теперь построим график плотности распределения $P_\\xi,_\\eta(x,y) = C \\cdot exp (-\\frac{1}{2}(6x^2-4xy+9y^2-8x-14y+11)$",
      "metadata": {}
    },
    {
      "cell_type": "code",
      "source": "import numpy as np\nimport matplotlib.pyplot as plt\nfrom mpl_toolkits.mplot3d import Axes3D\n\ndef density_function(x, y):\n    return (5 * np.sqrt(2) / (2 * np.pi)) * np.exp(-0.5 * (6*x**2 - 4*x*y + 9*y**2 - 8*x - 14*y + 11))\n\nx = np.linspace(-2, 2, 100)\ny = np.linspace(-2, 2, 100)\nX, Y = np.meshgrid(x, y)\n\nZ = density_function(X, Y)\n\nfig = plt.figure(figsize=(8, 8))\nax = fig.add_subplot(111, projection='3d')\nax.plot_surface(X, Y, Z, cmap='viridis')\n\nax.set_xlabel('X')\nax.set_ylabel('Y')\nax.set_zlabel('Density')\n\nplt.show()",
      "metadata": {
        "trusted": true
      },
      "outputs": [],
      "execution_count": null
    },
    {
      "cell_type": "markdown",
      "source": "ЗАДАНИЕ №2",
      "metadata": {}
    },
    {
      "cell_type": "markdown",
      "source": "$q(x,y)=\\frac{2}{3}((3x-y)-2)^2+\\frac{75}{9}(y-1)^2$",
      "metadata": {}
    },
    {
      "cell_type": "markdown",
      "source": "$\\left(\\sqrt\\frac{2}{3}\\cdot3x-\\sqrt\\frac{2}{3}\\cdot y-\\sqrt\\frac{2}{3}\\cdot2\\right)^2+\\left(\\sqrt\\frac{75}{9}y-\\sqrt\\frac{75}{9})\\right)^2$\\\n\\\nСледовательно получаем:",
      "metadata": {}
    },
    {
      "cell_type": "markdown",
      "source": "$\\vec{\\mu}_{st} = \\mathbb{E}\\begin{pmatrix} \\xi_{st} \\\\ \\eta_{st} \\end{pmatrix}=\\begin{pmatrix}\n\\sqrt\\frac{2}{3}\\cdot3 & -\\sqrt\\frac{2}{3}  \\\\\n0  & {\\sqrt\\frac{75}{9}}\n\\end{pmatrix}\\cdot  \\begin{pmatrix}\n1  \\\\\n1\n\\end{pmatrix} + \\begin{pmatrix}\n-\\sqrt\\frac{2}{3}\\cdot2  \\\\\n{-\\sqrt\\frac{75}{9}}\n\\end{pmatrix} =  \\begin{pmatrix}\n0  \\\\\n0\n\\end{pmatrix}$\n",
      "metadata": {}
    },
    {
      "cell_type": "markdown",
      "source": "$\\Sigma st=\\frac{1}{50}\\cdot\\begin{pmatrix}\n\\sqrt\\frac{2}{3}\\cdot3 & -\\sqrt\\frac{2}{3}  \\\\\n0  & {\\sqrt\\frac{75}{9}}\n\\end{pmatrix}\\cdot\\begin{pmatrix}\n9 & 2  \\\\\n2  & 6\n\\end{pmatrix}\\cdot\\begin{pmatrix}\n\\sqrt\\frac{2}{3}\\cdot3 & 0  \\\\\n-\\sqrt\\frac{2}{3}  & {\\sqrt\\frac{75}{9}}\n\\end{pmatrix} = \\begin{pmatrix}\n1 & 0  \\\\\n0  & 1\n\\end{pmatrix}$",
      "metadata": {}
    },
    {
      "cell_type": "markdown",
      "source": "ЗАДАНИЕ №3\n",
      "metadata": {}
    },
    {
      "cell_type": "markdown",
      "source": "$\\mathop{\\mathrm{det}}(\\Sigma^{-1} - \\lambda \\cdot E) = 0$\\\n\\\nто  есть\n\\\n\\\n$\\left|\\begin{pmatrix}\n6 & -2  \\\\\n-2  & 9\n\\end{pmatrix} - \\begin{pmatrix}\n\\lambda & 0  \\\\\n0  & \\lambda\n\\end{pmatrix}\\right|=0 $",
      "metadata": {}
    },
    {
      "cell_type": "markdown",
      "source": "$(6-\\lambda)(9-\\lambda)-4=0$",
      "metadata": {}
    },
    {
      "cell_type": "markdown",
      "source": "$54-6\\lambda-9\\lambda+\\lambda^2-4 = 0$",
      "metadata": {}
    },
    {
      "cell_type": "markdown",
      "source": "$\\lambda^2-15\\lambda+50 = 0$",
      "metadata": {}
    },
    {
      "cell_type": "markdown",
      "source": "$D = (-10)^2 - 4\\cdot1\\cdot\\frac{75}{4} = 100 - 75 = 25 = 5^2$",
      "metadata": {}
    },
    {
      "cell_type": "markdown",
      "source": "$\\lambda_1 =5; \\lambda_2 = 10$ \nподставляем в исходное;\n$\n\\\nдля \\ \\lambda1: \\begin{pmatrix}\n1 & -2  \\\\\n-2  & 4 \n\\end{pmatrix}\\cdot  \\begin{pmatrix}\nx_1  \\\\\nx_2\n\\end{pmatrix}=0$\n",
      "metadata": {}
    },
    {
      "cell_type": "markdown",
      "source": "$\\lambda_1 \n  \\begin{cases}\n    x_1-2x_2=0\\\\\n    -2x_1+4x_2=0\n  \\end{cases} \\Rightarrow\n  \\begin{cases}\n    x_1=2x_2\\\\\n    x_2=\\alpha; \\alpha \\in \\mathbb{R}\n  \\end{cases} \\Rightarrow\n  \\begin{cases}\n    \\alpha \\in \\mathbb{R}; x_1=2\\cdot\\alpha\\\\\n    x_2=\\alpha\n  \\end{cases}\n  $ ",
      "metadata": {}
    },
    {
      "cell_type": "markdown",
      "source": "для  $\\lambda2: \\begin{pmatrix}\n-4 & -2  \\\\\n-2  & -1 \n\\end{pmatrix}\\cdot  \\begin{pmatrix}\ny_1  \\\\\ny_2\n\\end{pmatrix}=0$\n\n\n\n$\\lambda_2 \n  \\begin{cases}\n    -4y_1 - 2y_2 = 0\\\\\n    -2y_1 - y_2 = 0\n  \\end{cases} \\Rightarrow\n  \\begin{cases}\n    y_2= -2y_1\\\\\n    y_1 = \\beta; \\beta \\in \\mathbb{R}\n  \\end{cases} \\Rightarrow\n  \\begin{cases}\n    y_2 = -2\\cdot\\beta \\in \\mathbb{R}\\\\\n    y_1 = \\beta\n  \\end{cases}\n  $ ",
      "metadata": {}
    },
    {
      "cell_type": "markdown",
      "source": "$|\\vec{X}|=\\sqrt5 \\ ;  |\\vec{Y}|=\\sqrt5$ - нормируем вектора",
      "metadata": {}
    },
    {
      "cell_type": "markdown",
      "source": "$\n\\vec{X}=\\frac{1}{\\sqrt{5}}\\begin{pmatrix}\n  2 \\\\\n  1 \n \\end{pmatrix}\n\\; \\vec{Y}=\\frac{1}{\\sqrt{5}}\\begin{pmatrix}\n  1 \\\\\n -2\n \\end{pmatrix}\n$",
      "metadata": {}
    },
    {
      "cell_type": "markdown",
      "source": "$Q^T = \\frac{1}{\\sqrt{5}}\\begin{pmatrix}\n2 & 1\\\\\n1 & -2\n\\end{pmatrix} ;  Q = \\frac{1}{\\sqrt{5}}\\begin{pmatrix}\n2 & 1\\\\\n1 & -2\n\\end{pmatrix}$",
      "metadata": {}
    },
    {
      "cell_type": "markdown",
      "source": "Произведем проверку: $Q^T \\cdot \\Sigma \\cdot Q = \\begin{pmatrix}\n... & 0\\\\\n0 & ...\\end{pmatrix}$\\\n\\\nПри получении диагональной матрицы - проверка выполнена успешно\n",
      "metadata": {}
    },
    {
      "cell_type": "markdown",
      "source": "$\\frac{1}{\\sqrt{5}}\\begin{pmatrix}\n2 & 1\\\\\n1 & -2\n\\end{pmatrix} \\cdot\\frac{1}{50}\n\\begin{pmatrix}\n9 & 2  \\\\\n2  & 6\n\\end{pmatrix} \\cdot  \\frac{1}{{5}}\\begin{pmatrix}\n2 & 1\\\\\n1 & -2\n\\end{pmatrix} = \\begin{pmatrix}\n\\frac{1}{5} & 0  \\\\\n0 &  \\frac{1}{10}\n\\end{pmatrix} = D $\n",
      "metadata": {}
    },
    {
      "cell_type": "markdown",
      "source": "Тогда: $D^{-1} = \\frac{1}{|D|} \\cdot \\begin{pmatrix}\n\\frac{1}{5} & 0  \\\\\n0 &  \\frac{1}{10}\n\\end{pmatrix} = \\frac{1}{50} \\cdot \\begin{pmatrix}\n\\frac{1}{5} & 0  \\\\\n0 &  \\frac{1}{10}\n\\end{pmatrix} = \\begin{pmatrix} 10 & 0 \\\\ 0 & 5 \\end{pmatrix}$\\\nТогда плотность распределения независимых компонентов центрированного вектора будет иметь вид:\\\n$p_{\\xi,\\eta}(x', y') = \\frac{1}{2\\pi \\cdot \\sqrt{|\\Sigma|}} \\cdot \\exp\\left(-\\frac{1}{2} \\cdot \\left[  \\begin{pmatrix} x' & y' \\end{pmatrix} \\cdot D^{-1} \\cdot \\begin{pmatrix} x' \\\\ y' \\end{pmatrix} \\right]\\right) = \\frac{5\\sqrt{2}}{2\\pi} \\cdot\\exp\\left(-\\frac{1}{2} \\cdot \\left[ 10{x'}^2 +5{y'}^2 \\right]\\right).$\\\n\\\nТеперь построим график плотности полученного распределения:\n",
      "metadata": {}
    },
    {
      "cell_type": "code",
      "source": "import numpy as np\nimport matplotlib.pyplot as plt\nfrom mpl_toolkits.mplot3d import Axes3D\n\ndef density_function(x, y):\n    return (5 * np.sqrt(2) / (2 * np.pi)) * np.exp(-0.5 * (10 * x**2 + 5 * y**2))\n\nx = np.linspace(-2, 2, 100)\ny = np.linspace(-2, 2, 100)\nX, Y = np.meshgrid(x, y)\n\nZ = density_function(X, Y)\n\nfig = plt.figure(figsize=(8, 8))\nax = fig.add_subplot(111, projection='3d')\nax.plot_surface(X, Y, Z, cmap='viridis')\n\nax.set_xlabel('X')\nax.set_ylabel('Y')\nax.set_zlabel('Density')\n\nplt.show()",
      "metadata": {
        "trusted": true
      },
      "outputs": [],
      "execution_count": null
    },
    {
      "cell_type": "markdown",
      "source": "ЗАДАНИЕ №4 \\\n$\\begin{cases}\n\\mathbb{E}(X) = \\mathbb{E}(-2\\xi-4\\eta) = -2\\mathbb{E}(\\xi)-4\\mathbb{E}(\\eta) = -2 - 4 = -6\\\\\n\\mathbb{E}(Y) = \\mathbb{E}(-5\\xi+3\\eta) = -5\\mathbb{E}(\\xi)+3\\mathbb{E}(\\eta) = -5 + 3 = -2\\end{cases}\\ ;\n$\\\n$\\begin{cases}\n\\mathbb{D}(X) = \\mathbb{D}(-2\\xi-4\\eta) = 4\\cdot\\mathbb{D}(\\xi) +16\\cdot\\mathbb{D}(\\eta) = 4\\cdot\\frac{3}{25} +16\\cdot\\frac{9}{50} = \\frac{84}{25}\\\\\n\\mathbb{D}(Y) = \\mathbb{D}(-5\\xi+3\\eta) = 25\\mathbb{D}(\\xi) + 9\\cdot\\mathbb{D}(\\eta) = 25\\cdot\\frac{3}{25} +9\\cdot\\frac{9}{50} = \\frac{231}{50}\\end{cases}$\n\n\n\n",
      "metadata": {}
    },
    {
      "cell_type": "markdown",
      "source": "$cov(-2\\xi-4\\eta, -5\\xi +3\\eta) = \\mathbb{E}((-2\\xi-4\\eta)\\cdot(-5\\xi +3\\eta)) - \\mathbb{E}(-2\\xi-4\\eta)\\cdot\\mathbb{E}(-5\\xi +3\\eta) = \\mathbb{E}(10\\xi^2 +14\\xi\\eta -12\\eta^2) - \\mathbb{E}(-2\\xi-4\\eta)\\cdot\\mathbb{E}(-5\\xi +3\\eta) = $",
      "metadata": {}
    },
    {
      "cell_type": "markdown",
      "source": "$=10\\mathbb{E}\\xi^2+14\\mathbb{E}\\xi\\eta-12\\mathbb{E}\\eta^2-(10(\\mathbb{E}\\xi)^2+14\\mathbb{E}\\xi\\mathbb{E}\\eta-12(\\mathbb{E}\\eta)^2) = 10\\mathbb{D}\\xi-12\\mathbb{D}\\eta = 10 \\cdot \\frac{3}{25} -12\\cdot \\frac{9}{50} = -\\frac{24}{25}$",
      "metadata": {}
    },
    {
      "cell_type": "markdown",
      "source": "Ков. матрица -  \n$\\Sigma_{XY} =\\frac{1}{25}\\begin{pmatrix}\n84 & -24  \\\\\n-24  & \\ 115.5\n\\end{pmatrix}$",
      "metadata": {}
    },
    {
      "cell_type": "markdown",
      "source": "$r=\\frac{cov(x,y)}{\\sqrt{\\mathbb{D}(x)\\mathbb{D}(y)}} = -\\frac{4\\sqrt{22}}{77}$",
      "metadata": {}
    },
    {
      "cell_type": "markdown",
      "source": "$P_{XY}(x,y) = \\frac{1}{2\\pi\\sqrt{\\mathbb{D}(x)\\mathbb{D}(y)}\\sqrt{1-r^2}}\\cdot exp\\left(-\\frac{1}{2(1-r^2)}\\left(\\frac{(x-\\mathbb{E}(x))^2}{\\mathbb{D}(x)}-\\frac{2r(x-\\mathbb{E}(x))(y-\\mathbb{E}(y))}{\\sqrt{\\mathbb{D}(x)\\mathbb{D}(y)}}+\\frac{(y-\\mathbb{E}(y))^2}{\\mathbb{D}(y)}\\right)\\right) =$\n$=\\frac{\\frac{39\\sqrt{6}}{25}}{\\frac{18252\\pi}{625}}\\cdot exp(-\\frac{1}{936936}\\cdot(148225x^2-1901900x+25\\cdot462^2+61600xy+800800y+1170400+107800y^2)$",
      "metadata": {}
    },
    {
      "cell_type": "markdown",
      "source": "Построим график плотности полученного распределения:",
      "metadata": {}
    },
    {
      "cell_type": "code",
      "source": "import numpy as np\nimport matplotlib.pyplot as plt\nfrom mpl_toolkits.mplot3d import Axes3D\n\ndef density_function_complex(x, y):\n    numerator = (39 * np.sqrt(6)) / 25\n    denominator = (18252 * np.pi) / 625\n    exponent = np.exp(-1 / 936936 * (148225 * x**2 - 1901900 * x + 25 * 462**2 + 61600 * x * y + 800800 * y + 1170400 + 107800 * y**2))\n    return (numerator / denominator) * exponent\nx = np.linspace(-10, 10, 400)\ny = np.linspace(-10, 10, 400)\nX, Y = np.meshgrid(x, y)\n\nZ = density_function_complex(X, Y)\n\nfig = plt.figure(figsize=(8, 8))\nax = fig.add_subplot(111, projection='3d')\nax.plot_surface(X, Y, Z, cmap='viridis')\n\nax.set_xlabel('X')\nax.set_ylabel('Y')\nax.set_zlabel('Density')\nplt.show()\n",
      "metadata": {
        "trusted": true
      },
      "outputs": [],
      "execution_count": null
    },
    {
      "cell_type": "markdown",
      "source": "ЗАДАНИЕ #5",
      "metadata": {}
    },
    {
      "cell_type": "markdown",
      "source": "Условное распределение $\\xi | \\eta = y$ имеет форму:\n$\\xi | \\eta = y \\sim \\mathcal{N}(\\mathbb{E}[\\xi|\\eta], \\mathbb{D}[\\xi|\\eta])$",
      "metadata": {}
    },
    {
      "cell_type": "markdown",
      "source": "Вычислим следующие значения:\\\n$\\mathbb{E}[\\xi|\\eta] = \\mu_{\\xi} + \\frac{cov({\\xi}{\\eta})}{\\mathbb{D}_{\\eta}} \\cdot (y - \\mu_{\\eta})=1+\\frac{\\frac{1}{25}}{\\frac{9}{50}}\\cdot(y_{0}-1)=\\frac{7}{9}+\\frac{2}{9}y_0$\\\n$\\mathbb{D}[\\xi|\\eta] = \\mathbb{D}_{\\xi} - \\frac{cov({\\xi}{\\eta})^2}{\\mathbb{D}_{\\eta}}=\\frac{3}{25}-\\frac{\\left(\\frac{1}{25}\\right)^2}{\\frac{9}{50}}=\\frac{1}{9}$",
      "metadata": {}
    },
    {
      "cell_type": "markdown",
      "source": "Тогда $\\xi | \\eta = y \\sim \\mathcal{N}(\\frac{7}{9}+\\frac{2}{9}y_0, \\frac{1}{9})$\\\nа функция плотности имеет вид: $p_{\\xi|\\eta=y_0}(x) = \\frac{1}{\\sqrt{2\\pi \\sigma ^2 _{\\xi | \\eta}}} exp\\left(-\\frac{(x - \\mu_{\\xi | \\eta = y_0})^2}{2\\sigma ^2 _{\\xi | \\eta} }\\right)= \\frac{1}{\\sqrt{2\\pi \\cdot \\frac{1}{9}}} exp\\left( -\\frac{(x -\\left(\\frac{7}{9}+\\frac{2}{9}y_0)\\right)^2}{2 \\cdot \\frac{1}{9}}\\right).$",
      "metadata": {}
    },
    {
      "cell_type": "markdown",
      "source": "## Выводы\n\n",
      "metadata": {
        "id": "rXlWlqb8znTd"
      }
    },
    {
      "cell_type": "markdown",
      "source": "В ходе работы были исследованы свойства двумерного случайного вектора с нормальным распределением. Выполнены следующие задания:\n1) Вычислен вектор мат. ожиданий и ковариционные характеристики данного случайного вектора с помощью приведение квадратичной формы к каноническому виду, также построен график плотности распределения.\n2) Найдено аффиное преобразование.\n3) Найдено ортогональное преобразование, переводящее исходный случайный вектор в вектор с независимы компонентами, построен график плотности полученного распределения.\n4) Вычислены характеристики совместного распределения случайного вектора, также построен график плотности полученного распределения\n5) Найдено условное распределение при заданных условиях.\n\nДокументация LaTeX является новым инструментом, но очень понятным для изучения, сложности были только на начальном этапе работы с ней.\n\n",
      "metadata": {
        "id": "HLHED7B_znTd"
      }
    },
    {
      "cell_type": "markdown",
      "source": "",
      "metadata": {}
    }
  ]
}