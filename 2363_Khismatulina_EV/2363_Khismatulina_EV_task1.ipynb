{
 "cells": [
  {
   "cell_type": "markdown",
   "metadata": {
    "id": "XNBPULJmznTZ"
   },
   "source": [
    "# Практическая работа №1: Исследование двумерного нормального распределения\n",
    "\n",
    "Выполнила студентка гр. 2363 Хисматулина Елизавета Владимировна. Вариант №17"
   ]
  },
  {
   "cell_type": "markdown",
   "metadata": {
    "id": "1MUIEhPNznTa"
   },
   "source": [
    "## Цель работы\n",
    "\n",
    "Исследовать свойства двумерного случайного вектора имеющего нормальное распределение, овладеть навыками преобразования нормального вектора в стандартный и в вектор с независимыми компонентами."
   ]
  },
  {
   "cell_type": "markdown",
   "metadata": {
    "id": "6CuJ5lrVznTb"
   },
   "source": [
    "## Основные теоретические положения\n",
    "Нормальное распределение двумерного случайного вектора определяется функцией плотности:\n",
    "$p(\\vec{x}) = \\frac{1}{2\\pi \\cdot \\sqrt{\\begin{vmatrix} \\Sigma \\end{vmatrix}}} \\exp\\left( -\\frac{1}{2} \\cdot (\\vec{x} - \\vec{\\mu})^{\\intercal} \\cdot \\Sigma^{-1} \\cdot (\\vec{x} - \\vec{\\mu}) \\right)$\n",
    "где:\\\n",
    "$\\vec{x} = \\begin{pmatrix} \\xi \\\\ \\eta \\end{pmatrix},$\\\n",
    "$\\vec{\\mu} = \\mathbb{E}\\begin{pmatrix} \\xi \\\\ \\eta \\end{pmatrix},$\\\n",
    "$\\Sigma = \\begin{pmatrix} \\mathbb{D}\\xi & \\mathop{\\mathrm{cov}}\\limits(\\xi, \\eta) \\\\ \\mathop{\\mathrm{cov}}\\limits(\\eta, \\xi) & \\mathbb{D}\\eta \\end{pmatrix}.$\\\n",
    "$\\quad$\\\n",
    "Афинное преобразование:\\\n",
    "$\\vec{\\xi} \\sim \\mathcal{N}(\\vec{\\mu}, \\Sigma)$ — исходный случайный вектор;\\\n",
    "$\\vec{\\xi}_{st} \\sim \\mathcal{N}(\\vec{\\mu}_{st}, \\Sigma_{st})$ — стандартный нормальный случайный вектор;\\\n",
    "$\\vec{\\xi}_{st} = A \\cdot \\vec{\\xi} + b$ — афинное преобразование случайного вектора;\\\n",
    "$\\vec{\\mu}_{st} = A \\cdot \\vec{\\mu} + b$ — получение стандартного нормального вектора математических ожиданий из исходного;\\\n",
    "$\\Sigma_{st} = A \\cdot \\Sigma \\cdot A^{\\intercal}$ — получение стандартной нормальной ковариационной матрицы из исходной.\\\n",
    "$\\quad$\\\n",
    "Ортогональное преобразование, переводящее соответствующий центрированный вектор в вектор с независимыми компонентами:\\\n",
    "$Q^{\\intercal}$ — матрица из собственных векторов матрицы $\\Sigma;$\\\n",
    "При вычислении выражения $Q \\cdot \\Sigma \\cdot Q^{\\intercal}$ должна получится матрица $D$ вида: $\\begin{pmatrix} \\ldots & 0 \\\\ 0 & \\ldots \\end{pmatrix};$\\\n",
    "Матрица $D$ является диагональной матрицей из собственных значений $\\Sigma^{-1},$\\\n",
    "при этом $\\Sigma = Q \\cdot D^{-1} \\cdot Q^{\\intercal},$\\\n",
    "Плотность распределения независимых компонентов центрированного вектора будет иметь вид:\\\n",
    "$p_{\\xi,\\eta}(x', y') = \\frac{1}{2\\pi \\cdot \\sqrt{\\begin{vmatrix} \\Sigma \\end{vmatrix}}} \\cdot \\exp\\left(-\\frac{1}{2} \\cdot \\left[  \\begin{pmatrix} x' & y' \\end{pmatrix} \\cdot D^{-1} \\cdot \\begin{pmatrix} x' \\\\ y' \\end{pmatrix} \\right]\\right)$\\\n",
    "$\\quad$\\\n",
    "Cовместное распределение случайного вектора:\\\n",
    "Пусть $\\vec{z} = A \\cdot \\begin{pmatrix} \\xi \\\\ \\eta \\end{pmatrix}$ — случайный вектор,\\\n",
    "тогда $\\vec{z} \\sim \\mathcal{N}(A \\cdot \\vec{\\mu}, A \\cdot \\Sigma \\cdot A^{\\intercal})$\\\n",
    "$\\quad$\\\n",
    "Условное распределение для нормального:\\\n",
    "Для многомерного нормального распределения условное распределение также является нормальным.\\\n",
    "Условное распределение $\\xi | \\eta = y$ имеет следующую форму:\\\n",
    "$\\xi | \\eta = y \\sim \\mathcal{N}(\\mathbb{E}[\\xi|\\eta], \\mathbb{D}[\\xi|\\eta])$, где\\\n",
    "$\\mathbb{E}[\\xi|\\eta] = \\mu_{\\xi} + \\frac{\\sigma_{\\xi\\eta}}{\\sigma_{\\eta}^2} \\cdot (y - \\mu_{\\eta}),$\\\n",
    "$\\mathbb{D}[\\xi|\\eta] = \\sigma_{\\xi}^2 - \\frac{\\sigma_{\\xi\\eta}^2}{\\sigma_{\\eta}^2}.$"
   ]
  },
  {
   "cell_type": "markdown",
   "metadata": {
    "id": "nfRQmPI8znTb"
   },
   "source": [
    "## Постановка задачи\n",
    "\n",
    "Для заданного двумерного нормального вектора необходимо вычислить числовые характеристики и выполнить заданные преобразования. Полученные результаты содержательно проинтерпретировать.\n",
    "\n",
    "Плотность двумерного распределения имеет вид:\n",
    "\n",
    "$p_{\\xi, \\eta}(x, y)=C\\cdot\\exp\\left(-\\frac{1}{2}(5x^2-4xy+8y^2+16x+8y+20)\\right)$;\n",
    "1. Вычислить вектор математических ожиданий и ковариационные характеристики данного случайного вектора. Построить график распределения $p_{\\xi, \\eta}$.\n",
    "2. Найти афинное преобразование, переводящее исходный случайный вектор в стандартный нормальный.\n",
    "3. Найти ортогональное преобразование, переводящее соответствующий центрированный случайный вектор в вектор с независимыми компонентами. Построить график плотности полученного распределения.\n",
    "4. Вычислить характеристики совместного распределения случайного вектора $(\\xi-3\\eta,2\\xi+4\\eta)^{\\intercal}$ и записать его плотность. Построить график полученного распределения.\n",
    "5. Найти условное распределение $\\xi$ при условии $\\eta$. Вычислить $\\mathbb{E}(\\xi|\\eta)$ и $\\mathbb{D}(\\xi|\\eta)$."
   ]
  },
  {
   "cell_type": "markdown",
   "metadata": {},
   "source": [
    "## Выполнение работы\n",
    "\n",
    "1. Для вычисления необходимых характеристик необходимо преобразовать данную плотность распределения - выделить квадратичную форму и привести ее к канонической форме.\n",
    "\n",
    "Пусть $q(x,y)=5x^2-4xy+8y^2+16x+8y+20$.\n",
    "\n",
    "$q(x,y)=5x^2-4xy+\\frac{4}{5}y^2+16(x-\\frac{2}{5}y)+\\frac{36}{5}(y^2+2y+1)+\\frac{64}{5}=5(x-\\frac{2}{5}y)^2+16(x-\\frac{2}{5}y)+\\frac{36}{5}(y+1)^2+\\frac{64}{5}=$\n",
    "\n",
    "$=5((x-\\frac{2}{5}y)^2+\\frac{16}{5}(x-\\frac{2}{5}y)+\\frac{64}{25})+\\frac{36}{5}(y+1)^2=5((x-\\frac{2}{5}y)+\\frac{8}{5})^2+\\frac{36}{5}(y+1)^2=$\n",
    "\n",
    "$=5(-\\frac{2}{5}(y+1)+(x+2))^2+\\frac{36}{5}(y+1)^2=5(x+2)^2+2\\cdot(-2)(x+2)(y+1)+8(y+1)^2$.\n",
    "\n",
    "Исходя из этой формы записи, можно получить вектор математических ожиданий:\n",
    "\n",
    "$\\overrightarrow{\\mu}_{\\xi,\\eta}=\n",
    "\\begin{pmatrix}\n",
    "    -2 \\\\\n",
    "    -1\n",
    "\\end{pmatrix}$.\n",
    "\n",
    "Также получим матрицу, обратную матрице ковариаций:\n",
    "\n",
    "$\\Sigma^{-1}=\n",
    "\\begin{pmatrix}\n",
    "    5 & -2 \\\\\n",
    "    -2 & 8\n",
    "\\end{pmatrix}$.\n",
    "\n",
    "Для нахождения матрицы ковариаций найдем определитель обратной ей:\n",
    "\n",
    "$det\\Sigma^{-1}=5\\cdot 8-4=36$.\n",
    "\n",
    "$\\Sigma=\\frac{1}{36}\n",
    "\\begin{pmatrix}\n",
    "    8 & 2 \\\\\n",
    "    2 & 5\n",
    "\\end{pmatrix}$.\n",
    "\n",
    "Отсюда получаем дисперсии случайных величин:\n",
    "\n",
    "$\\mathbb{D}_{\\xi}=\\frac{2}{9}; \\mathbb{D}_{\\eta}=\\frac{5}{36}$;\n",
    "\n",
    "а также ковариацию $cov(\\xi,\\eta)=\\frac{1}{18}$.\n",
    "\n",
    "Итого: $p_{\\xi, \\eta}=\\frac{\\frac{1}{18}}{\\sqrt{\\frac{2}{9}\\cdot \\frac{5}{36}}}=\\frac{1}{\\sqrt{10}}$.\n",
    "\n",
    "$C=\\frac{1}{2\\pi\\cdot\\sqrt{\\frac{1}{36}}}=\\frac{3}{\\pi}$.\n"
   ]
  },
  {
   "cell_type": "code",
   "execution_count": 137,
   "metadata": {},
   "outputs": [
    {
     "data": {
      "image/png": "[encoded data removed]",
      "text/plain": [
       "plot without title"
      ]
     },
     "metadata": {},
     "output_type": "display_data"
    },
    {
     "data": {
      "image/png": "[encoded data removed]",
      "text/plain": [
       "plot without title"
      ]
     },
     "metadata": {},
     "output_type": "display_data"
    },
    {
     "data": {
      "image/png": "[encoded data removed]",
      "text/plain": [
       "plot without title"
      ]
     },
     "metadata": {},
     "output_type": "display_data"
    }
   ],
   "source": [
    "## 1 пункт - график распределения\n",
    "P_xi_eta <- function(x, y) {\n",
    "  3 / pi * exp(-0.5 * (5 * (x + 2)^2 - 4 * (x + 2) * (y + 1) + 8 * (y + 1)^2))\n",
    "}\n",
    "\n",
    "x <- seq(-4, 2, length = 50)\n",
    "y <- seq(-3, 3, length = 50)\n",
    "z <- outer(x, y, P_xi_eta)\n",
    " \n",
    "persp(x, y, z, col = \"pink\", border = \"black\", theta = 0, phi = 0)\n",
    "persp(x, y, z, col = \"pink\", border = \"black\", theta = 90, phi = 90)\n",
    "persp(x, y, z, col = \"pink\", border = \"black\", theta = 45, phi = 45)\n"
   ]
  },
  {
   "cell_type": "markdown",
   "metadata": {
    "id": "rpG8CHAkznTb"
   },
   "source": [
    "2. Чтобы найти афинное преобразование, необходимо привести квадратичную форму к канонической:\n",
    "\n",
    "$5((x-\\frac{2}{5}y)+\\frac{8}{5})^2+\\frac{36}{5}(y+1)^2 = (\\sqrt{5} x-\\frac{2}{\\sqrt{5}} y + \\frac{8}{\\sqrt{5}})^2$ \n",
    "$+(\\frac{6}{\\sqrt{5}}y+\\frac{6}{\\sqrt{5}})^2$.\n",
    "\n",
    "Необходимое преобразование будет иметь вид:\n",
    "\n",
    "$A\\bar{\\xi}+b\\sim\\mathcal{N}(A\\bar{\\mu}+b,A\\Sigma A^{\\intercal})$.\n",
    "\n",
    "$A=\n",
    "\\begin{pmatrix}\n",
    "    \\sqrt{5} & -\\frac{2}{\\sqrt{5}} \\\\\n",
    "    0 & \\frac{6}{\\sqrt{5}}\n",
    "\\end{pmatrix}$.\n",
    "\n",
    "$A^{\\intercal}=\n",
    "\\begin{pmatrix}\n",
    "    \\sqrt{5} & 0 \\\\\n",
    "    -\\frac{2}{\\sqrt{5}} & \\frac{6}{\\sqrt{5}}\n",
    "\\end{pmatrix}$.\n",
    "\n",
    "$b=\n",
    "\\begin{pmatrix}\n",
    "    \\frac{8}{\\sqrt{5}} \\\\\n",
    "    \\frac{6}{\\sqrt{5}}\n",
    "\\end{pmatrix}$.\n",
    "\n",
    "Проверим:\n",
    "\n",
    "$\\begin{pmatrix}\n",
    "    \\xi_{st} \\\\\n",
    "    \\eta_{st}\n",
    "\\end{pmatrix}$\n",
    "$=\n",
    "\\begin{pmatrix}\n",
    "    \\sqrt{5} & -\\frac{2}{\\sqrt{5}} \\\\\n",
    "    0 & \\frac{6}{\\sqrt{5}}\n",
    "\\end{pmatrix}$\n",
    "$\\cdot\n",
    "\\begin{pmatrix}\n",
    "    \\xi \\\\\n",
    "    \\eta\n",
    "\\end{pmatrix}$\n",
    "$+\n",
    "\\begin{pmatrix}\n",
    "    \\frac{8}{\\sqrt{5}} \\\\\n",
    "    \\frac{6}{\\sqrt{5}}\n",
    "\\end{pmatrix}$.\n",
    "\n",
    "$\\begin{pmatrix}\n",
    "    \\xi_{st} \\\\\n",
    "    \\eta_{st}\n",
    "\\end{pmatrix}$\n",
    "$=\n",
    "\\begin{pmatrix}\n",
    "    \\sqrt{5} & -\\frac{2}{\\sqrt{5}} \\\\\n",
    "    0 & \\frac{6}{\\sqrt{5}}\n",
    "\\end{pmatrix}$\n",
    "$\\cdot\n",
    "\\begin{pmatrix}\n",
    "    -2 \\\\\n",
    "    -1\n",
    "\\end{pmatrix}$\n",
    "$+\n",
    "\\begin{pmatrix}\n",
    "    \\frac{8}{\\sqrt{5}} \\\\\n",
    "    \\frac{6}{\\sqrt{5}}\n",
    "\\end{pmatrix}$\n",
    "$=\n",
    "\\begin{pmatrix}\n",
    "    -\\frac{8}{\\sqrt{5}} \\\\\n",
    "    -\\frac{6}{\\sqrt{5}}\n",
    "\\end{pmatrix}$\n",
    "$+\n",
    "\\begin{pmatrix}\n",
    "    \\frac{8}{\\sqrt{5}} \\\\\n",
    "    \\frac{6}{\\sqrt{5}}\n",
    "\\end{pmatrix}$\n",
    "$=\n",
    "\\begin{pmatrix}\n",
    "    0 \\\\\n",
    "    0\n",
    "\\end{pmatrix}$.\n",
    "\n",
    "$\\Sigma_{st}=\\frac{1}{36}\\cdot\n",
    "\\begin{pmatrix}\n",
    "    \\sqrt{5} & -\\frac{2}{\\sqrt{5}} \\\\\n",
    "    0 & \\frac{6}{\\sqrt{5}}\n",
    "\\end{pmatrix}$\n",
    "$\\cdot \n",
    "\\begin{pmatrix}\n",
    "    8 & 2 \\\\\n",
    "    2 & 5\n",
    "\\end{pmatrix}$\n",
    "$\\cdot\n",
    "\\begin{pmatrix}\n",
    "    \\sqrt{5} & 0 \\\\\n",
    "    -\\frac{2}{\\sqrt{5}} & \\frac{6}{\\sqrt{5}}\n",
    "\\end{pmatrix}$\n",
    "$=\\frac{1}{36}\n",
    "\\begin{pmatrix}\n",
    "     8\\sqrt{5}-\\frac{4}{\\sqrt{5}} & 0 \\\\\n",
    "     \\frac{12}{\\sqrt{5}} & 6\\sqrt{5}\n",
    "\\end{pmatrix}$\n",
    "$\\cdot\n",
    "\\begin{pmatrix}\n",
    "    \\sqrt{5} & 0 \\\\\n",
    "    -\\frac{2}{\\sqrt{5}} & \\frac{6}{\\sqrt{5}}\n",
    "\\end{pmatrix}$\n",
    "$=\\frac{1}{36}\n",
    "\\begin{pmatrix}\n",
    "    36 & 0 \\\\\n",
    "    0 & 36\n",
    "\\end{pmatrix}$\n",
    "$=E$."
   ]
  },
  {
   "cell_type": "code",
   "execution_count": 139,
   "metadata": {},
   "outputs": [
    {
     "data": {
      "text/html": [
       "<table>\n",
       "<tbody>\n",
       "\t<tr><td>-4.440892e-16</td></tr>\n",
       "\t<tr><td> 0.000000e+00</td></tr>\n",
       "</tbody>\n",
       "</table>\n"
      ],
      "text/latex": [
       "\\begin{tabular}{l}\n",
       "\t -4.440892e-16\\\\\n",
       "\t  0.000000e+00\\\\\n",
       "\\end{tabular}\n"
      ],
      "text/markdown": [
       "\n",
       "| -4.440892e-16 |\n",
       "|  0.000000e+00 |\n",
       "\n"
      ],
      "text/plain": [
       "     [,1]         \n",
       "[1,] -4.440892e-16\n",
       "[2,]  0.000000e+00"
      ]
     },
     "metadata": {},
     "output_type": "display_data"
    },
    {
     "data": {
      "text/html": [
       "<table>\n",
       "<tbody>\n",
       "\t<tr><td>1</td><td>0</td></tr>\n",
       "\t<tr><td>0</td><td>1</td></tr>\n",
       "</tbody>\n",
       "</table>\n"
      ],
      "text/latex": [
       "\\begin{tabular}{ll}\n",
       "\t 1 & 0\\\\\n",
       "\t 0 & 1\\\\\n",
       "\\end{tabular}\n"
      ],
      "text/markdown": [
       "\n",
       "| 1 | 0 |\n",
       "| 0 | 1 |\n",
       "\n"
      ],
      "text/plain": [
       "     [,1] [,2]\n",
       "[1,] 1    0   \n",
       "[2,] 0    1   "
      ]
     },
     "metadata": {},
     "output_type": "display_data"
    }
   ],
   "source": [
    "## Код для выполнения пункта работы\n",
    "## 2 пункт - проверка афинного преобразования\n",
    "A <- matrix(c(sqrt(5), 0, -2/sqrt(5), 6/sqrt(5)), nrow = 2)\n",
    "mu <- matrix(c(-2, -1), ncol = 1)\n",
    "b <- c(8/sqrt(5), 6/sqrt(5))\n",
    "\n",
    "mu_st <- A %*% mu + b\n",
    "mu_st\n",
    "\n",
    "S <- matrix(c(8, 2, 2, 5), nrow = 2)\n",
    "T <- A %*% S %*% t(A) / 36\n",
    "T"
   ]
  },
  {
   "cell_type": "markdown",
   "metadata": {},
   "source": [
    "3. Для нахождения ортогонального преобразования необходимо найти собственные числа матрицы, обратной матрице ковариаций $\\Sigma^{-1}$.\n",
    "\n",
    "$\\Sigma^{-1}=\n",
    "\\begin{pmatrix}\n",
    "    5 & -2 \\\\\n",
    "    -2 & 8\n",
    "\\end{pmatrix}$;\n",
    "$det(\\Sigma^{-1}-\\lambda E)=0$.\n",
    "\n",
    "$\\begin{pmatrix}\n",
    "    5 & -2 \\\\\n",
    "    -2 & 8\n",
    "\\end{pmatrix}$\n",
    "$-\n",
    "\\begin{pmatrix}\n",
    "    \\lambda & 0 \\\\\n",
    "    0 & \\lambda\n",
    "\\end{pmatrix}$\n",
    "$=\n",
    "\\begin{pmatrix}\n",
    "    (5-\\lambda) & -2 \\\\\n",
    "    -2 & (8-\\lambda)\n",
    "\\end{pmatrix}$.\n",
    "\n",
    "$det(\\Sigma^{-1}-\\lambda E)=(5-\\lambda)(8-\\lambda)-4=0$.\n",
    "\n",
    "$\\lambda^2-13\\lambda+36=0$;\n",
    "\n",
    "$\\lambda_1=9$; $\\lambda_2=4$.\n",
    "\n",
    "Найдем собственные векторы:\n",
    "\n",
    "1) $\\lambda_1=9$:\n",
    "\n",
    "$\\begin{equation*}\n",
    "    \\begin{cases}\n",
    "        -4u_1-2v_1=0 \\\\\n",
    "        -2u_1-v_1=0\n",
    "    \\end{cases}\n",
    "\\end{equation*}$\n",
    "\n",
    "$\\begin{equation*}\n",
    "    \\begin{cases}\n",
    "        \\sqsupset\\alpha\\in\\mathbb{R}, u_1=\\alpha \\\\\n",
    "        v_1=-2\\alpha\n",
    "    \\end{cases}\n",
    "\\end{equation*}$\n",
    "$\\Rightarrow \\bar{v_1}=\n",
    "\\begin{pmatrix}\n",
    "    1 \\\\\n",
    "    -2\n",
    "\\end{pmatrix}$\n",
    "$\\alpha$.\n",
    "\n",
    "2) $\\lambda_2=4$:\n",
    "\n",
    "$\\begin{equation*}\n",
    "    \\begin{cases}\n",
    "        u_2-2v_2=0 \\\\\n",
    "        -2u_2+v_2=0\n",
    "    \\end{cases}\n",
    "\\end{equation*}$\n",
    "\n",
    "$\\begin{equation*}\n",
    "    \\begin{cases}\n",
    "        \\sqsupset\\beta\\in\\mathbb{R}, v_2=\\beta \\\\\n",
    "        u_2=2\\beta\n",
    "    \\end{cases}\n",
    "\\end{equation*}$\n",
    "$\\Rightarrow \\bar{v_2}=\n",
    "\\begin{pmatrix}\n",
    "    2 \\\\\n",
    "    1\n",
    "\\end{pmatrix}$\n",
    "$\\beta$.\n",
    "\n",
    "Получим матрицу $Q^{\\intercal}$ из собственных векторов:\n",
    "\n",
    "$Q^{\\intercal}=\n",
    "\\begin{pmatrix}\n",
    "    1 & 2 \\\\\n",
    "    -2 & 1\n",
    "\\end{pmatrix}$\n",
    "$\\cdot \\frac{1}{\\sqrt{5}}$. Значит, матрица $Q$ будет иметь вид:\n",
    "\n",
    "$Q=\n",
    "\\begin{pmatrix}\n",
    "    1 & -2 \\\\\n",
    "    2 & 1\n",
    "\\end{pmatrix}$\n",
    "$\\cdot \\frac{1}{\\sqrt{5}}$.\n",
    "\n",
    "Проверим:\n",
    "\n",
    "$Q\\cdot\\Sigma\\cdot Q^{\\intercal}=\\frac{1}{\\sqrt{5}\\cdot 36\\cdot\\sqrt{5}}\\cdot\n",
    "\\begin{pmatrix}\n",
    "    1 & -2 \\\\\n",
    "    2 & 1\n",
    "\\end{pmatrix}$\n",
    "$\\cdot\n",
    "\\begin{pmatrix}\n",
    "    8 & 2 \\\\\n",
    "    2 & 5\n",
    "\\end{pmatrix}$\n",
    "$\\cdot\n",
    "\\begin{pmatrix}\n",
    "    1 & 2 \\\\\n",
    "    -2 & 1\n",
    "\\end{pmatrix}$\n",
    "$=\n",
    "\\begin{pmatrix}\n",
    "    20 & 0 \\\\\n",
    "    0 & 45\n",
    "\\end{pmatrix}$\n",
    "$\\Rightarrow$ условие (матрица вида \n",
    "$\\begin{pmatrix}\n",
    "    \\dots & 0 \\\\\n",
    "    0 & \\dots\n",
    "\\end{pmatrix}$\n",
    ") выполняется.\n",
    "\n",
    "$\\Sigma=Q\\cdot D^{-1}\\cdot Q^{\\intercal}$, а $D=\n",
    "\\begin{pmatrix}\n",
    "    20 & 0 \\\\\n",
    "    0 & 45\n",
    "\\end{pmatrix}$\n",
    ", то найдем $D^{-1}$:\n",
    "\n",
    "$D^{-1}=\\frac{1}{| D |}\\cdot\n",
    "\\begin{pmatrix}\n",
    "    45 & 0 \\\\\n",
    "    0 & 20\n",
    "\\end{pmatrix}$\n",
    "$=\n",
    "\\begin{pmatrix}\n",
    "    \\frac{1}{20} & 0 \\\\\n",
    "    0 & \\frac{1}{45}\n",
    "\\end{pmatrix}$."
   ]
  },
  {
   "cell_type": "code",
   "execution_count": 141,
   "metadata": {},
   "outputs": [
    {
     "data": {
      "text/html": [
       "<table>\n",
       "<tbody>\n",
       "\t<tr><td>20</td><td> 0</td></tr>\n",
       "\t<tr><td> 0</td><td>45</td></tr>\n",
       "</tbody>\n",
       "</table>\n"
      ],
      "text/latex": [
       "\\begin{tabular}{ll}\n",
       "\t 20 &  0\\\\\n",
       "\t  0 & 45\\\\\n",
       "\\end{tabular}\n"
      ],
      "text/markdown": [
       "\n",
       "| 20 |  0 |\n",
       "|  0 | 45 |\n",
       "\n"
      ],
      "text/plain": [
       "     [,1] [,2]\n",
       "[1,] 20    0  \n",
       "[2,]  0   45  "
      ]
     },
     "metadata": {},
     "output_type": "display_data"
    },
    {
     "data": {
      "text/html": [
       "<table>\n",
       "<tbody>\n",
       "\t<tr><td>0.05      </td><td>0.00000000</td></tr>\n",
       "\t<tr><td>0.00      </td><td>0.02222222</td></tr>\n",
       "</tbody>\n",
       "</table>\n"
      ],
      "text/latex": [
       "\\begin{tabular}{ll}\n",
       "\t 0.05       & 0.00000000\\\\\n",
       "\t 0.00       & 0.02222222\\\\\n",
       "\\end{tabular}\n"
      ],
      "text/markdown": [
       "\n",
       "| 0.05       | 0.00000000 |\n",
       "| 0.00       | 0.02222222 |\n",
       "\n"
      ],
      "text/plain": [
       "     [,1] [,2]      \n",
       "[1,] 0.05 0.00000000\n",
       "[2,] 0.00 0.02222222"
      ]
     },
     "metadata": {},
     "output_type": "display_data"
    }
   ],
   "source": [
    "## 3 пункт - проверка\n",
    "Q <- matrix(c(1, 2, -2, 1), nrow = 2)\n",
    "\n",
    "D <- Q %*% S %*% t(Q)\n",
    "D\n",
    "Dx <- matrix(c(45, 0, 0, 20), nrow = 2)\n",
    "D1 <- Dx / (20*45)\n",
    "D1"
   ]
  },
  {
   "cell_type": "markdown",
   "metadata": {},
   "source": [
    "Таким образом, плотность распределения независимых компонентов центрированного случайного вектора будет иметь вид:\n",
    "\n",
    "$p_{\\xi,\\eta}(x', y') = \\frac{1}{2\\pi \\cdot \\sqrt{|\\Sigma|}} \\cdot \\exp\\left(-\\frac{1}{2} \\cdot \\left[ \\begin{pmatrix} x' & y' \\end{pmatrix} \\cdot D^{-1} \\cdot \\begin{pmatrix} x' \\\\ y' \\end{pmatrix} \\right]\\right)=\\frac{3}{\\pi}\\exp\\left(-\\frac{1}{2}\\cdot \\left[ \\frac{1}{20}x'^2+\\frac{1}{45}y'^2 \\right]\\right)$."
   ]
  },
  {
   "cell_type": "code",
   "execution_count": 144,
   "metadata": {},
   "outputs": [
    {
     "data": {
      "image/png": "[encoded data removed]",
      "text/plain": [
       "plot without title"
      ]
     },
     "metadata": {},
     "output_type": "display_data"
    },
    {
     "data": {
      "image/png": "[encoded data removed]",
      "text/plain": [
       "plot without title"
      ]
     },
     "metadata": {},
     "output_type": "display_data"
    },
    {
     "data": {
      "image/png": "[encoded data removed]",
      "text/plain": [
       "plot without title"
      ]
     },
     "metadata": {},
     "output_type": "display_data"
    }
   ],
   "source": [
    "##график плотности распределения\n",
    "P_xi_eta <- function(x, y) {\n",
    "  3 / pi * exp(-0.5 * (1 / 20 * x^2 + 1 / 45 * y^2))\n",
    "}\n",
    "\n",
    "x <- seq(-40, 40, length = 50)\n",
    "y <- seq(-40, 40, length = 50)\n",
    "z <- outer(x, y, P_xi_eta)\n",
    " \n",
    "persp(x, y, z, col = \"pink\", border = \"black\", theta = 0, phi = 0)\n",
    "persp(x, y, z, col = \"pink\", border = \"black\", theta = 90, phi = 90)\n",
    "persp(x, y, z, col = \"pink\", border = \"black\", theta = 45, phi = 45)"
   ]
  },
  {
   "cell_type": "markdown",
   "metadata": {},
   "source": [
    "4. Найдем характеристики данного вектора:\n",
    "\n",
    "Пусть $\\vec{z}=\n",
    "\\begin{pmatrix}\n",
    "    \\xi-3\\eta \\\\\n",
    "    2\\xi+4\\eta\n",
    "\\end{pmatrix}$\n",
    "$=A\\cdot\n",
    "\\begin{pmatrix}\n",
    "    \\xi \\\\\n",
    "    \\eta\n",
    "\\end{pmatrix}$,\n",
    "\n",
    "тогда $\\vec{z}\\sim\\mathcal{N}(A\\cdot\\vec{\\mu}, A\\cdot\\Sigma\\cdot A^{\\intercal})$, где матрица $A=\n",
    "\\begin{pmatrix}\n",
    "    1 & -3 \\\\ \n",
    "    2 & 4 \n",
    "\\end{pmatrix}$.\n",
    "\n",
    "Обозначим $A\\cdot\\vec{\\mu}=\\mathbb{E}[\\vec{z}]=\\vec{\\mu}_{\\vec{z}}$ и $A\\cdot\\Sigma\\cdot A^{\\intercal}=\\Sigma_{\\vec{z}}$\n",
    "\n",
    "Произведем расчеты:"
   ]
  },
  {
   "cell_type": "code",
   "execution_count": 146,
   "metadata": {},
   "outputs": [
    {
     "data": {
      "text/html": [
       "'mu_z'"
      ],
      "text/latex": [
       "'mu\\_z'"
      ],
      "text/markdown": [
       "'mu_z'"
      ],
      "text/plain": [
       "[1] \"mu_z\""
      ]
     },
     "metadata": {},
     "output_type": "display_data"
    },
    {
     "name": "stdout",
     "output_type": "stream",
     "text": [
      "     [,1]\n",
      "[1,]    1\n",
      "[2,]   -8\n"
     ]
    },
    {
     "data": {
      "text/html": [
       "'S_z'"
      ],
      "text/latex": [
       "'S\\_z'"
      ],
      "text/markdown": [
       "'S_z'"
      ],
      "text/plain": [
       "[1] \"S_z\""
      ]
     },
     "metadata": {},
     "output_type": "display_data"
    },
    {
     "name": "stdout",
     "output_type": "stream",
     "text": [
      "     [,1] [,2]\n",
      "[1,]   41  -48\n",
      "[2,]  -48  144\n"
     ]
    },
    {
     "data": {
      "text/html": [
       "'det_S_z'"
      ],
      "text/latex": [
       "'det\\_S\\_z'"
      ],
      "text/markdown": [
       "'det_S_z'"
      ],
      "text/plain": [
       "[1] \"det_S_z\""
      ]
     },
     "metadata": {},
     "output_type": "display_data"
    },
    {
     "data": {
      "text/html": [
       "3600"
      ],
      "text/latex": [
       "3600"
      ],
      "text/markdown": [
       "3600"
      ],
      "text/plain": [
       "[1] 3600"
      ]
     },
     "metadata": {},
     "output_type": "display_data"
    }
   ],
   "source": [
    "mu <- matrix(c(-2, -1), ncol = 1)\n",
    "S <- matrix(c(8, 2, 2, 5), nrow = 2)\n",
    "A <- matrix(c(1, 2, -3, 4), nrow = 2)\n",
    "\n",
    "mu_z <- A %*% mu\n",
    "S_z <- A %*% S %*% t(A)\n",
    "\n",
    "det_S_z <- (S_z[1] * S_z[4] - (S_z[2] * S_z[3]))\n",
    "\n",
    "'mu_z'\n",
    "print(mu_z)\n",
    "\n",
    "'S_z'\n",
    "print(S_z)\n",
    "\n",
    "'det_S_z'\n",
    "det_S_z"
   ]
  },
  {
   "cell_type": "markdown",
   "metadata": {},
   "source": [
    "Получаем:\n",
    "\n",
    "$\\vec{\\mu}_{\\vec{z}}=\n",
    "\\begin{pmatrix}\n",
    "    1 \\\\\n",
    "    -8\n",
    "\\end{pmatrix}$.\n",
    "\n",
    "$\\Sigma_{\\vec{z}} =\\frac{1}{36}\\cdot\n",
    "\\begin{pmatrix}\n",
    "    1 & -3 \\\\ \n",
    "    2 & 4 \n",
    "\\end{pmatrix}$\n",
    "$\\cdot\n",
    "\\begin{pmatrix}\n",
    "    8 & 2 \\\\\n",
    "    2 & 5\n",
    "\\end{pmatrix}$\n",
    "$\\cdot\n",
    "\\begin{pmatrix}\n",
    "    1 & 2 \\\\\n",
    "    -3 & 4\n",
    "\\end{pmatrix}$\n",
    "$=\\frac{1}{36}\\cdot\n",
    "\\begin{pmatrix}\n",
    "    41 & -48 \\\\\n",
    "    -48 & 144\n",
    "\\end{pmatrix}$.\n",
    "\n",
    "Ковариационные характеристики:\n",
    "\n",
    "$\\mathbb{D}[\\xi-3\\eta]=\\frac{41}{36}$.\n",
    "\n",
    "$\\mathbb{D}[2\\xi+4\\eta]=\\frac{144}{36}=4$.\n",
    "\n",
    "$cov(\\xi-3\\eta,2\\xi+4\\eta)=-\\frac{48}{36}=-\\frac{4}{3}$.\n",
    "\n",
    "Итого: $p_{\\xi, \\eta}=\\frac{-\\frac{4}{3}}{\\sqrt{\\frac{41}{36}\\cdot 4}}=-\\frac{4}{\\sqrt{41}}$.\n",
    "\n",
    "$p_{\\vec{z}}(\\vec{z})=\\frac{1}{2\\pi\\cdot\\sqrt{|\\Sigma_{\\vec{z}}|}}\\cdot\\exp\\left(-\\frac{1}{2}\\cdot(\\vec{z}-\\vec{\\mu}_{\\vec{z}})^{\\intercal}\\cdot\\Sigma_{\\vec{z}}^{-1}\\cdot(\\vec{z}-\\vec{\\mu}_{\\vec{z}})\\right)$.\n",
    "\n",
    "$\\Sigma_{\\vec{z}}^{-1}=\\frac{1}{|\\Sigma_{\\vec{z}}|}\\cdot\n",
    "\\begin{pmatrix}\n",
    "    144 & -48 \\\\\n",
    "    -48 & 41 \n",
    "\\end{pmatrix}$\n",
    "$=\\frac{1}{3600}\\cdot\n",
    "\\begin{pmatrix}\n",
    "    144 & -48 \\\\\n",
    "    -48 & 41\n",
    "\\end{pmatrix}$.\n",
    "\n",
    "$p_{\\vec{z}}(\\vec{z})=\\frac{1}{2\\pi\\cdot\\sqrt{3600}}\\cdot\\exp\\left(-\\frac{1}{2}\\cdot\\frac{1}{3600}\\cdot\\left[ \\begin{pmatrix} \\xi-3\\eta \\\\ 2\\xi+4\\eta \\end{pmatrix} - \\begin{pmatrix} 1 \\\\ -8 \\end{pmatrix} \\right]^{\\intercal} \\cdot \\begin{pmatrix} 144 & -48 \\\\ -48 & 41 \\end{pmatrix} \\cdot\\left[ \\begin{pmatrix} \\xi-3\\eta \\\\ 2\\xi+4\\eta \\end{pmatrix} - \\begin{pmatrix} 1 \\\\ -8 \\end{pmatrix} \\right] \\right)=$\n",
    "\n",
    "$=\\frac{1}{2\\pi\\cdot\\sqrt{3600}} \\cdot \\exp\\left( -\\frac{1}{2} \\cdot \\frac{1}{3600} \\cdot \\begin{pmatrix} \\xi-3\\eta-1 & 2\\xi+4\\eta+8 \\end{pmatrix} \\cdot \\begin{pmatrix} 144 & -48 \\\\ -48 & 41 \\end{pmatrix} \\cdot \\begin{pmatrix} \\xi-3\\eta-1 \\\\ 2\\xi+4\\eta+8 \\end{pmatrix} \\right)=$\n",
    "\n",
    "$=\\frac{1}{2\\pi\\cdot\\sqrt{3600}} \\cdot \\exp\\left( -\\frac{1}{2} \\cdot \\frac{1}{3600} \\cdot \\begin{pmatrix} 48\\xi-624\\eta-528 & 34\\xi+308\\eta+376 \\end{pmatrix} \\cdot \\begin{pmatrix} \\xi-3\\eta-1 \\\\ 2\\xi+4\\eta+8 \\end{pmatrix} \\right)=$\n",
    "\n",
    "$= \\frac{1}{2\\pi\\cdot\\sqrt{3600}} \\cdot \\exp\\left( -\\frac{1}{2} \\cdot \\frac{1}{3600} \\cdot \\left[116\\xi^2-16\\xi\\eta+448\\xi+3104\\eta^2 +6176\\eta+3536\\right] \\right)$.\n",
    "\n",
    "Теперь построим график плотности совместного распределения:"
   ]
  },
  {
   "cell_type": "code",
   "execution_count": 19,
   "metadata": {},
   "outputs": [
    {
     "data": {
      "image/png": "[encoded data removed]",
      "text/plain": [
       "plot without title"
      ]
     },
     "metadata": {},
     "output_type": "display_data"
    },
    {
     "data": {
      "image/png": "[encoded data removed]",
      "text/plain": [
       "plot without title"
      ]
     },
     "metadata": {},
     "output_type": "display_data"
    },
    {
     "data": {
      "image/png": "[encoded data removed]",
      "text/plain": [
       "plot without title"
      ]
     },
     "metadata": {},
     "output_type": "display_data"
    }
   ],
   "source": [
    "##график плотности распределения\n",
    "\n",
    "P_z <- function(x, y) {\n",
    "  1 / (2 * pi * sqrt(3600)) * exp(-0.5 * (1 / 3600) * (116 * x^2 - 16 * x * y + 448 * x + 3104 * y^2 + 6176 * y +3536))\n",
    "}\n",
    "\n",
    "x <- seq(-40, 40, length.out = 50)\n",
    "y <- seq(-40, 40, length.out = 50)\n",
    "\n",
    "z <- outer(x, y, P_z)\n",
    "\n",
    "persp(x, y, z, col = \"pink\", border = \"black\", theta = 0, phi = 0)\n",
    "persp(x, y, z, col = \"pink\", border = \"black\", theta = 90, phi = 90)\n",
    "persp(x, y, z, col = \"pink\", border = \"black\", theta = 45, phi = 45)"
   ]
  },
  {
   "cell_type": "markdown",
   "metadata": {},
   "source": [
    "5. Найдем условное распределение:\n",
    "\n",
    "Для многомерного нормального распределения условное распределение также является нормальным. Условное распределение $\\xi | \\eta = x$ имеет следующую форму:\n",
    "\n",
    "$\\xi|\\eta=x\\sim\\mathcal{N}(\\mathbb{E}[\\xi|\\eta],\\mathbb{D}[\\xi|\\eta])$, где\n",
    "\n",
    "$\\mathbb{E}[\\xi|\\eta]=\\mu_{\\xi}+\\frac{\\sigma_{\\xi\\eta}}{\\sigma_{\\eta}^2} \\cdot (y - \\mu_{\\eta})$\n",
    "\n",
    "$\\mathbb{D}[\\xi|\\eta]=\\sigma_{\\xi}^2-\\frac{\\sigma_{\\xi\\eta}^2}{\\sigma_{\\eta}^2}$.\n",
    "\n",
    "Вычислим $\\mathbb{E}(\\xi|\\eta)$ и $\\mathbb{D}(\\xi|\\eta)$.\n",
    "\n",
    "$\\mathbb{E}[\\xi|\\eta] =-2+\\frac{\\frac{1}{18}}{\\frac{5}{36}}\\cdot(x_{0}+1) =-2+\\frac{2}{5}\\cdot(x_{0}+1)=-2+\\frac{2}{5}\\cdot x_{0}+\\frac{2}{5}=-\\frac{8}{5}+\\frac{2}{5}\\cdot x_{0}$.\n",
    "\n",
    "$\\mathbb{D}[\\xi|\\eta] =\\frac{2}{9}-\\frac{(\\frac{1}{18})^2}{\\frac{5}{36}}=\\frac{2}{9}- \\frac{\\frac{1}{324}}{\\frac{5}{36}}=\\frac{2}{9}-\\frac{1}{45}=\\frac{9}{45}=\\frac{1}{5}$.\n",
    "\n",
    "Таким образом, условное распределение $\\xi | \\eta = y_{0}$ имеет вид:\n",
    "\n",
    "$\\xi|\\eta=x_{0}\\sim\\mathcal{N}(-\\frac{8}{5}+\\frac{2}{5}\\cdot x_{0},\\frac{1}{5})$,\n",
    "\n",
    "а функция плотности будет иметь вид:\n",
    "\n",
    "$p_{\\xi|\\eta=x_{0}}(x)=\\frac{1}{\\sqrt{2\\pi\\sigma_{\\xi|\\eta}^2}}\n",
    "\\exp\\left( -\\frac{(x - \\mu_{\\xi|\\eta = y_{0}})^2}{2\\sigma_{\\xi|\\eta}^2} \\right);$\n",
    "\n",
    "$p_{\\xi|\\eta=x_{0}}(x)=\\frac{1}{\\sqrt{2\\pi\\cdot\\frac{1}{5}}} \\exp\\left(-\\frac{\\left(x- \\left(-\\frac{8}{5}+\\frac{2}{5}x_{0} \\right) \\right)^2}{2\\cdot\\frac{1}{5}} \\right).$"
   ]
  },
  {
   "cell_type": "markdown",
   "metadata": {
    "id": "rXlWlqb8znTd"
   },
   "source": [
    "## Выводы\n",
    "\n",
    "В процессе исследования были скрупулёзно проанализированы характеристики двумерного случайного вектора, который подчиняется закону нормального распределения. Для этого вектора были вычислены ключевые статистические показатели, а также проведены операции, направленные на приведение его к стандартному виду и разделение на независимые составляющие.\r\n",
    "\r\n",
    "В результате был получен график плотности распределения исходного вектора, а также график плотности для вектора с независимыми составляющими, полученный после преобразований.\r\n",
    "\r\n",
    "Кроме того, были определены характеристики совместного распределения случайного вектора и построена соответствующая плотность. Также был создан график плотности совместного распределения.\r\n",
    "\r\n",
    "Для данного вектора было найдено условное распределение, а также рассчитаны его условное математическое ожидание и дисперсия.\r\n",
    "\r\n",
    "В процессе построения графиков плотностей распределений и преобразования квадратичной формы возникли некоторые сложности. Также возникли трудности при написании кода на языке R, поскольку ранее этот язык программирования не использовался."
   ]
  }
 ],
 "metadata": {
  "colab": {
   "provenance": []
  },
  "kernelspec": {
   "display_name": "R",
   "language": "R",
   "name": "ir"
  },
  "language_info": {
   "codemirror_mode": "r",
   "file_extension": ".r",
   "mimetype": "text/x-r-source",
   "name": "R",
   "pygments_lexer": "r",
   "version": "3.6.1"
  }
 },
 "nbformat": 4,
 "nbformat_minor": 4
}
